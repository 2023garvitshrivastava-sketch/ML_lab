{
  "nbformat": 4,
  "nbformat_minor": 0,
  "metadata": {
    "colab": {
      "provenance": [],
      "authorship_tag": "ABX9TyMvRDQdBmpRnFzCra3SRTyR",
      "include_colab_link": true
    },
    "kernelspec": {
      "name": "python3",
      "display_name": "Python 3"
    },
    "language_info": {
      "name": "python"
    }
  },
  "cells": [
    {
      "cell_type": "markdown",
      "metadata": {
        "id": "view-in-github",
        "colab_type": "text"
      },
      "source": [
        "<a href=\"https://colab.research.google.com/github/2023garvitshrivastava-sketch/ML_lab/blob/main/Perceptron.ipynb\" target=\"_parent\"><img src=\"https://colab.research.google.com/assets/colab-badge.svg\" alt=\"Open In Colab\"/></a>"
      ]
    },
    {
      "cell_type": "code",
      "execution_count": null,
      "metadata": {
        "colab": {
          "base_uri": "https://localhost:8080/"
        },
        "id": "RDuA9bliL1Ye",
        "outputId": "68c2dfe5-be2c-4e05-ae11-21dd035cc347"
      },
      "outputs": [
        {
          "output_type": "stream",
          "name": "stdout",
          "text": [
            "Final Weights: [2. 1.]\n",
            "Final Bias: -2\n",
            "\n",
            "Weight Updates Table:\n",
            "    Epoch  Input 1  Input 2  Target  Prediction  Weights 1  Weights 2  Bias\n",
            "0       1        0        0       0           1        0.0        0.0     0\n",
            "1       1        0        1       0           0        0.0        0.0    -1\n",
            "2       1        1        0       0           0        0.0        0.0    -1\n",
            "3       1        1        1       1           0        0.0        0.0    -1\n",
            "4       2        0        0       0           1        1.0        1.0     0\n",
            "5       2        0        1       0           1        1.0        1.0    -1\n",
            "6       2        1        0       0           0        1.0        0.0    -2\n",
            "7       2        1        1       1           0        1.0        0.0    -2\n",
            "8       3        0        0       0           0        2.0        1.0    -1\n",
            "9       3        0        1       0           1        2.0        1.0    -1\n",
            "10      3        1        0       0           1        2.0        0.0    -2\n",
            "11      3        1        1       1           0        1.0        0.0    -3\n"
          ]
        }
      ],
      "source": [
        "import numpy as np\n",
        "import pandas as pd\n",
        "\n",
        "def step_function(x):\n",
        "    return 1 if x >= 0 else 0\n",
        "\n",
        "\n",
        "def perceptron_train(X, y, learning_rate=1, epochs=3):\n",
        "    weights = np.zeros(X.shape[1])\n",
        "    bias = 0\n",
        "    history = []\n",
        "\n",
        "    for epoch in range(epochs):\n",
        "        for i in range(len(X)):\n",
        "            linear_output = np.dot(X[i], weights) + bias\n",
        "            y_pred = step_function(linear_output)\n",
        "            error = y[i] - y_pred\n",
        "\n",
        "            history.append({\n",
        "                'Epoch': epoch + 1,\n",
        "                'Input 1': X[i][0],\n",
        "                'Input 2': X[i][1],\n",
        "                'Target': y[i],\n",
        "                'Prediction': y_pred,\n",
        "\n",
        "                'Weights 1': weights[0],\n",
        "                'Weights 2': weights[1],\n",
        "                'Bias': bias\n",
        "            })\n",
        "            weights += learning_rate * error * X[i]\n",
        "            bias += learning_rate * error\n",
        "\n",
        "    return weights, bias, history\n",
        "\n",
        "def perceptron_predict(X, weights, bias):\n",
        "    y_pred = []\n",
        "    for i in range(len(X)):\n",
        "        linear_output = np.dot(X[i], weights) + bias\n",
        "        y_pred.append(step_function(linear_output))\n",
        "    return np.array(y_pred)\n",
        "\n",
        "X = np.array([[0,0], [0,1], [1,0], [1,1]])\n",
        "y = np.array([0, 0, 0, 1])\n",
        "\n",
        "weights, bias, history = perceptron_train(X, y, learning_rate=1, epochs=3)\n",
        "\n",
        "df_history = pd.DataFrame(history)\n",
        "\n",
        "predictions = perceptron_predict(X, weights, bias)\n",
        "\n",
        "print(\"Final Weights:\", weights)\n",
        "print(\"Final Bias:\", bias)\n",
        "print(\"\\nWeight Updates Table:\")\n",
        "print(df_history)\n"
      ]
    },
    {
      "cell_type": "code",
      "source": [
        "*"
      ],
      "metadata": {
        "id": "FSW0HuEXMp44"
      },
      "execution_count": null,
      "outputs": []
    }
  ]
}