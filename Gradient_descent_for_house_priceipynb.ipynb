{
  "nbformat": 4,
  "nbformat_minor": 0,
  "metadata": {
    "colab": {
      "provenance": [],
      "authorship_tag": "ABX9TyO4LBHOQQ2ELV6rJtfIfcp9",
      "include_colab_link": true
    },
    "kernelspec": {
      "name": "python3",
      "display_name": "Python 3"
    },
    "language_info": {
      "name": "python"
    }
  },
  "cells": [
    {
      "cell_type": "markdown",
      "metadata": {
        "id": "view-in-github",
        "colab_type": "text"
      },
      "source": [
        "<a href=\"https://colab.research.google.com/github/2023garvitshrivastava-sketch/ML_lab/blob/main/Gradient_descent_for_house_priceipynb.ipynb\" target=\"_parent\"><img src=\"https://colab.research.google.com/assets/colab-badge.svg\" alt=\"Open In Colab\"/></a>"
      ]
    },
    {
      "cell_type": "code",
      "execution_count": 1,
      "metadata": {
        "colab": {
          "base_uri": "https://localhost:8080/",
          "height": 611
        },
        "id": "a1F1wVJgBllw",
        "outputId": "dd79edd7-4190-41b4-d54b-453445102ced"
      },
      "outputs": [
        {
          "output_type": "stream",
          "name": "stdout",
          "text": [
            "Iteration 0: Cost = 2.8149\n",
            "Iteration 200: Cost = 0.3225\n",
            "Iteration 400: Cost = 0.3225\n",
            "Iteration 600: Cost = 0.3225\n",
            "Iteration 800: Cost = 0.3225\n",
            "\n",
            "Test MSE: 0.6575\n"
          ]
        },
        {
          "output_type": "display_data",
          "data": {
            "text/plain": [
              "<Figure size 640x480 with 1 Axes>"
            ],
            "image/png": "[encoded data removed]"
          },
          "metadata": {}
        },
        {
          "output_type": "stream",
          "name": "stdout",
          "text": [
            "Predicted median house value: $374578.76\n"
          ]
        }
      ],
      "source": [
        "# ============================================\n",
        "# 🏡 House Price Prediction with Gradient Descent\n",
        "# Using California Housing Dataset (built-in)\n",
        "# ============================================\n",
        "\n",
        "import numpy as np\n",
        "import matplotlib.pyplot as plt\n",
        "from sklearn.datasets import fetch_california_housing\n",
        "from sklearn.model_selection import train_test_split\n",
        "from sklearn.preprocessing import StandardScaler\n",
        "from sklearn.metrics import mean_squared_error\n",
        "\n",
        "# --- 1. Load dataset ---\n",
        "data = fetch_california_housing(as_frame=True)\n",
        "df = data.frame\n",
        "\n",
        "# Select a few simple features for demonstration\n",
        "features = ['MedInc', 'AveRooms', 'HouseAge', 'AveOccup']\n",
        "target = 'MedHouseVal'\n",
        "\n",
        "X = df[features].values\n",
        "y = df[target].values.reshape(-1, 1)\n",
        "\n",
        "# --- 2. Split data ---\n",
        "X_train, X_test, y_train, y_test = train_test_split(X, y, test_size=0.2, random_state=42)\n",
        "\n",
        "# --- 3. Normalize features ---\n",
        "scaler = StandardScaler()\n",
        "X_train = scaler.fit_transform(X_train)\n",
        "X_test = scaler.transform(X_test)\n",
        "\n",
        "# Add bias term\n",
        "m, n = X_train.shape\n",
        "X_b = np.c_[np.ones((m, 1)), X_train]\n",
        "\n",
        "# --- 4. Initialize parameters ---\n",
        "theta = np.zeros((n + 1, 1))\n",
        "alpha = 0.05\n",
        "iterations = 1000\n",
        "cost_history = []\n",
        "\n",
        "# --- 5. Gradient Descent ---\n",
        "for i in range(iterations):\n",
        "    predictions = X_b.dot(theta)\n",
        "    errors = predictions - y_train\n",
        "    gradients = (1/m) * X_b.T.dot(errors)\n",
        "    theta -= alpha * gradients\n",
        "    cost = (1/(2*m)) * np.sum(errors**2)\n",
        "    cost_history.append(cost)\n",
        "    if i % 200 == 0:\n",
        "        print(f\"Iteration {i}: Cost = {cost:.4f}\")\n",
        "\n",
        "# --- 6. Evaluate model ---\n",
        "X_test_b = np.c_[np.ones((len(X_test), 1)), X_test]\n",
        "y_pred = X_test_b.dot(theta)\n",
        "mse = mean_squared_error(y_test, y_pred)\n",
        "print(f\"\\nTest MSE: {mse:.4f}\")\n",
        "\n",
        "# --- 7. Plot cost function ---\n",
        "plt.plot(cost_history)\n",
        "plt.xlabel(\"Iteration\")\n",
        "plt.ylabel(\"Cost (MSE × ½m)\")\n",
        "plt.title(\"Gradient Descent Convergence\")\n",
        "plt.show()\n",
        "\n",
        "# --- 8. Example prediction ---\n",
        "example = np.array([[8.0, 6.0, 20.0, 3.0]])  # MedInc, AveRooms, HouseAge, AveOccup\n",
        "example_scaled = scaler.transform(example)\n",
        "example_b = np.c_[np.ones((1, 1)), example_scaled]\n",
        "pred_price = example_b.dot(theta)[0, 0]\n",
        "print(f\"Predicted median house value: ${pred_price * 100000:.2f}\")\n"
      ]
    },
    {
      "cell_type": "code",
      "source": [],
      "metadata": {
        "id": "1EuP9HxTByKv"
      },
      "execution_count": null,
      "outputs": []
    }
  ]
}