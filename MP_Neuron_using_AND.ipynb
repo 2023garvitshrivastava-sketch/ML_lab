{
  "nbformat": 4,
  "nbformat_minor": 0,
  "metadata": {
    "colab": {
      "provenance": [],
      "authorship_tag": "ABX9TyPrJK1FvckHGxBzvRF74069",
      "include_colab_link": true
    },
    "kernelspec": {
      "name": "python3",
      "display_name": "Python 3"
    },
    "language_info": {
      "name": "python"
    }
  },
  "cells": [
    {
      "cell_type": "markdown",
      "metadata": {
        "id": "view-in-github",
        "colab_type": "text"
      },
      "source": [
        "<a href=\"https://colab.research.google.com/github/2023garvitshrivastava-sketch/ML_lab/blob/main/MP_Neuron_using_AND.ipynb\" target=\"_parent\"><img src=\"https://colab.research.google.com/assets/colab-badge.svg\" alt=\"Open In Colab\"/></a>"
      ]
    },
    {
      "cell_type": "code",
      "execution_count": null,
      "metadata": {
        "colab": {
          "base_uri": "https://localhost:8080/"
        },
        "id": "YWPels6gKEKu",
        "outputId": "13ea22ee-5981-4e8a-e006-64986c2a338a"
      },
      "outputs": [
        {
          "output_type": "stream",
          "name": "stdout",
          "text": [
            "x1=0, x2=0 → S=0, θ=2 → Output=0\n",
            "x1=0, x2=1 → S=1, θ=2 → Output=0\n",
            "x1=1, x2=0 → S=1, θ=2 → Output=0\n",
            "x1=1, x2=1 → S=2, θ=2 → Output=1\n"
          ]
        }
      ],
      "source": [
        "# MP Neuron for AND Gate\n",
        "\n",
        "# Define inputs\n",
        "inputs = [\n",
        "    [0, 0],\n",
        "    [0, 1],\n",
        "    [1, 0],`\n",
        "    [1, 1]\n",
        "]\n",
        "\n",
        "# Define weights and threshold\n",
        "w1, w2 = 1, 1\n",
        "theta = 2\n",
        "\n",
        "# Step function for MP neuron\n",
        "def mp_neuron(x1, x2):\n",
        "    S = w1 * x1 + w2 * x2\n",
        "    y = 1 if S >= theta else 0\n",
        "    print(f\"x1={x1}, x2={x2} → S={S}, θ={theta} → Output={y}\")\n",
        "\n",
        "# Run the neuron for all input combinations\n",
        "for x1, x2 in inputs:\n",
        "    mp_neuron(x1, x2)\n"
      ]
    },
    {
      "cell_type": "code",
      "source": [],
      "metadata": {
        "id": "TCM7cV8cKMtI"
      },
      "execution_count": null,
      "outputs": []
    }
  ]
}